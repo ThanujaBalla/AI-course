{
  "nbformat": 4,
  "nbformat_minor": 0,
  "metadata": {
    "colab": {
      "provenance": [],
      "authorship_tag": "ABX9TyNfS5wuhZxx7wmmiiAwANdT",
      "include_colab_link": true
    },
    "kernelspec": {
      "name": "python3",
      "display_name": "Python 3"
    },
    "language_info": {
      "name": "python"
    }
  },
  "cells": [
    {
      "cell_type": "markdown",
      "metadata": {
        "id": "view-in-github",
        "colab_type": "text"
      },
      "source": [
        "<a href=\"https://colab.research.google.com/github/ThanujaBalla/AI-course/blob/main/NLP.ipynb\" target=\"_parent\"><img src=\"https://colab.research.google.com/assets/colab-badge.svg\" alt=\"Open In Colab\"/></a>"
      ]
    },
    {
      "cell_type": "markdown",
      "source": [
        "NLP ( Natural Language Processing)"
      ],
      "metadata": {
        "id": "bQzz-4qY6cAf"
      }
    },
    {
      "cell_type": "code",
      "source": [
        "import spacy\n",
        "spacy_model=spacy.load('en_core_web_sm')"
      ],
      "metadata": {
        "id": "ynFpiHT49P78"
      },
      "execution_count": 5,
      "outputs": []
    },
    {
      "cell_type": "code",
      "source": [
        "msg=spacy_model(\"Mr. Nani is in Hyderabad. He is in his office\")\n",
        "for i in msg.sents:\n",
        "  print(i)"
      ],
      "metadata": {
        "colab": {
          "base_uri": "https://localhost:8080/"
        },
        "id": "v1hdBTNn7KhW",
        "outputId": "f69cd8f7-faaa-4b0a-94f6-d60e5d2be247"
      },
      "execution_count": 6,
      "outputs": [
        {
          "output_type": "stream",
          "name": "stdout",
          "text": [
            "Mr. Nani is in Hyderabad.\n",
            "He is in his office\n"
          ]
        }
      ]
    },
    {
      "cell_type": "code",
      "source": [
        "for i in msg.sents:\n",
        "  for w in i:\n",
        "    print(w)"
      ],
      "metadata": {
        "colab": {
          "base_uri": "https://localhost:8080/"
        },
        "id": "wl4tyYFW7xza",
        "outputId": "050d77e2-60a4-4e74-f30e-deffcf8f89c6"
      },
      "execution_count": 7,
      "outputs": [
        {
          "output_type": "stream",
          "name": "stdout",
          "text": [
            "Mr.\n",
            "Nani\n",
            "is\n",
            "in\n",
            "Hyderabad\n",
            ".\n",
            "He\n",
            "is\n",
            "in\n",
            "his\n",
            "office\n"
          ]
        }
      ]
    },
    {
      "cell_type": "code",
      "source": [
        "import nltk\n",
        "nltk.download('punkt')\n",
        "from nltk.tokenize import sent_tokenize\n",
        "sent_tokenize(\"Mr. Nani is in Hyderabad. He is in his office\")"
      ],
      "metadata": {
        "colab": {
          "base_uri": "https://localhost:8080/"
        },
        "id": "5328zsHV74zl",
        "outputId": "b6c4f1ac-df6e-4265-ba79-0a919d7e78ee"
      },
      "execution_count": 8,
      "outputs": [
        {
          "output_type": "stream",
          "name": "stderr",
          "text": [
            "[nltk_data] Downloading package punkt to /root/nltk_data...\n",
            "[nltk_data]   Unzipping tokenizers/punkt.zip.\n"
          ]
        },
        {
          "output_type": "execute_result",
          "data": {
            "text/plain": [
              "['Mr. Nani is in Hyderabad.', 'He is in his office']"
            ]
          },
          "metadata": {},
          "execution_count": 8
        }
      ]
    },
    {
      "cell_type": "code",
      "source": [
        "#stemming -> deriving the base word\n",
        "#lemmatization -> convert the word to its meaningful base form\n",
        "from nltk.stem import PorterStemmer\n",
        "stemmer=PorterStemmer()\n",
        "w=[\"eating\",\"reading\",\"adjustable\"]\n",
        "for i in w:\n",
        "  print(i,stemmer.stem(i))"
      ],
      "metadata": {
        "colab": {
          "base_uri": "https://localhost:8080/"
        },
        "id": "EM7DO1u375GW",
        "outputId": "3f9ec64a-2939-4222-8b64-991d7360ce31"
      },
      "execution_count": 10,
      "outputs": [
        {
          "output_type": "stream",
          "name": "stdout",
          "text": [
            "eating eat\n",
            "reading read\n",
            "adjustable adjust\n"
          ]
        }
      ]
    },
    {
      "cell_type": "code",
      "source": [
        "msg=spacy_model(\"eating,eats,ability\")\n",
        "for j in msg:\n",
        "  print(j,j.lemma_)\n"
      ],
      "metadata": {
        "colab": {
          "base_uri": "https://localhost:8080/"
        },
        "id": "_hLWewvh9r7M",
        "outputId": "cefd32a7-0e9c-4c66-b4fb-6cf6f722501c"
      },
      "execution_count": 11,
      "outputs": [
        {
          "output_type": "stream",
          "name": "stdout",
          "text": [
            "eating eating\n",
            ", ,\n",
            "eats eat\n",
            ", ,\n",
            "ability ability\n"
          ]
        }
      ]
    },
    {
      "cell_type": "code",
      "source": [
        "# parts of speech\n",
        "msg=spacy_model(\"I am going to cpomplete this today.\")\n",
        "for i in msg:\n",
        "    print(i,i.pos_,spacy.explain(i.pos_))"
      ],
      "metadata": {
        "colab": {
          "base_uri": "https://localhost:8080/"
        },
        "id": "dw9rqEvt-CLI",
        "outputId": "5b4c9257-6ccd-4ab1-e8d4-c0fda5e43342"
      },
      "execution_count": 13,
      "outputs": [
        {
          "output_type": "stream",
          "name": "stdout",
          "text": [
            "I PRON pronoun\n",
            "am AUX auxiliary\n",
            "going VERB verb\n",
            "to PART particle\n",
            "cpomplete VERB verb\n",
            "this PRON pronoun\n",
            "today NOUN noun\n",
            ". PUNCT punctuation\n"
          ]
        }
      ]
    },
    {
      "cell_type": "code",
      "source": [
        "# name entyity recognition\n",
        "msg=spacy_model(\"I am going to GOOGLE office today to give docs to Anitha in US.\")"
      ],
      "metadata": {
        "id": "LctVS9bM-lRY"
      },
      "execution_count": 14,
      "outputs": []
    },
    {
      "cell_type": "code",
      "source": [
        "for i in msg.ents:\n",
        "  print(i.text,i.label_,spacy.explain(i.label_))"
      ],
      "metadata": {
        "colab": {
          "base_uri": "https://localhost:8080/"
        },
        "id": "vCion4KA-9hF",
        "outputId": "317cabc9-e6b0-4e39-bd89-6d34745235b2"
      },
      "execution_count": 17,
      "outputs": [
        {
          "output_type": "stream",
          "name": "stdout",
          "text": [
            "GOOGLE ORG Companies, agencies, institutions, etc.\n",
            "today DATE Absolute or relative dates or periods\n",
            "Anitha GPE Countries, cities, states\n",
            "US GPE Countries, cities, states\n"
          ]
        }
      ]
    },
    {
      "cell_type": "code",
      "source": [
        "# sentimental analyisi\n",
        "from textblob import TextBlob\n",
        "rev1=\"Oppo is very good.\"\n",
        "rev2=\"Oppo is not working properly.\"\n",
        "fb1=TextBlob(rev1)\n",
        "fb2=TextBlob(rev2)\n",
        "print(fb1.sentiment)\n",
        "print(fb2.sentiment)"
      ],
      "metadata": {
        "colab": {
          "base_uri": "https://localhost:8080/"
        },
        "id": "t8NJiHXl_DBK",
        "outputId": "a89b7830-0de8-4fed-f957-3639521cd15a"
      },
      "execution_count": 18,
      "outputs": [
        {
          "output_type": "stream",
          "name": "stdout",
          "text": [
            "Sentiment(polarity=0.9099999999999999, subjectivity=0.7800000000000001)\n",
            "Sentiment(polarity=0.0, subjectivity=0.1)\n"
          ]
        }
      ]
    },
    {
      "cell_type": "code",
      "source": [],
      "metadata": {
        "id": "mce7_6eF_mhx"
      },
      "execution_count": null,
      "outputs": []
    }
  ]
}